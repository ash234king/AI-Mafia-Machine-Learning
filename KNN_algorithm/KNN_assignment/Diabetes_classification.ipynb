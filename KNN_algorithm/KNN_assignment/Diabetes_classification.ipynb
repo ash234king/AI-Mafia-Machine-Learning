{
 "cells": [
  {
   "cell_type": "code",
   "execution_count": 2,
   "id": "dea78d64-d9ad-4d83-97df-3590dc225011",
   "metadata": {},
   "outputs": [],
   "source": [
    "import pandas as pd\n",
    "import numpy as np\n",
    "import matplotlib.pyplot as plt"
   ]
  },
  {
   "cell_type": "code",
   "execution_count": 3,
   "id": "7459564c-40c5-4ab6-b280-4b6d276510e1",
   "metadata": {},
   "outputs": [
    {
     "name": "stdout",
     "output_type": "stream",
     "text": [
      "Index(['Pregnancies', 'Glucose', 'BloodPressure', 'SkinThickness', 'Insulin',\n",
      "       'BMI', 'DiabetesPedigreeFunction', 'Age'],\n",
      "      dtype='object')\n"
     ]
    }
   ],
   "source": [
    "dfx=pd.read_csv(r\"C:\\Users\\Hosiyar Singh\\Documents\\python machine learning\\KNN algorithm\\KNN_assignment\\Diabetes_XTrain.csv\")\n",
    "print(dfx.columns)"
   ]
  },
  {
   "cell_type": "code",
   "execution_count": 4,
   "id": "cd664691-128d-4658-b588-9ff91db2daa4",
   "metadata": {},
   "outputs": [],
   "source": [
    "dfy=pd.read_csv(r\"C:\\Users\\Hosiyar Singh\\Documents\\python machine learning\\KNN algorithm\\KNN_assignment\\Diabetes_YTrain.csv\")"
   ]
  },
  {
   "cell_type": "code",
   "execution_count": 5,
   "id": "e8135aed-5f82-4aa3-a1c9-7facb78d5227",
   "metadata": {},
   "outputs": [
    {
     "data": {
      "image/png": "[encoded data removed]",
      "text/plain": [
       "<Figure size 640x480 with 1 Axes>"
      ]
     },
     "metadata": {},
     "output_type": "display_data"
    }
   ],
   "source": [
    "plt.bar(['Non-Diabetic (0)', 'Diabetic (1)'], dfy.value_counts(), color=['blue', 'red'])\n",
    "plt.xlabel('Class')\n",
    "plt.ylabel('Number of Examples')\n",
    "plt.title('Class Distribution in Dataset')\n",
    "plt.show()"
   ]
  },
  {
   "cell_type": "code",
   "execution_count": 9,
   "id": "557ca46b-6e94-4175-a3c5-f894d2a3dcca",
   "metadata": {},
   "outputs": [],
   "source": [
    "x=dfx.values\n",
    "y = dfy.values\n",
    "y = y[:,0:].reshape((-1,)) "
   ]
  },
  {
   "cell_type": "code",
   "execution_count": 13,
   "id": "3796d761-395e-49e1-bfc0-c8e5d5e9030d",
   "metadata": {},
   "outputs": [],
   "source": [
    "# Data normalization (Min-Max Scaling without sklearn)\n",
    "def min_max_scaling(data):\n",
    "    return (data - data.min()) / (data.max() - data.min())\n"
   ]
  },
  {
   "cell_type": "code",
   "execution_count": 14,
   "id": "14de0313-d20b-44eb-a0b1-3fb25750391d",
   "metadata": {},
   "outputs": [],
   "source": [
    "x = np.apply_along_axis(min_max_scaling, 0, x)"
   ]
  },
  {
   "cell_type": "code",
   "execution_count": 15,
   "id": "ce04d536-87ac-4c93-9830-19a08c8df559",
   "metadata": {},
   "outputs": [],
   "source": [
    "def distance(x1,x2):\n",
    "    return np.sqrt(sum((x1-x2)**2))\n",
    "\n",
    "\n",
    "def knn(x, y, querypoint, k=5):\n",
    "    vals = []\n",
    "    for i in range(x.shape[0]):\n",
    "        d = distance(querypoint, x[i])\n",
    "        vals.append((d, y[i]))\n",
    "    vals = sorted(vals)[:k]  # Sort and take top k\n",
    "    labels = [label for _, label in vals]\n",
    "    new_values = np.unique(labels, return_counts=True)\n",
    "    index = new_values[1].argmax()\n",
    "    pred = new_values[0][index]\n",
    "    return pred"
   ]
  },
  {
   "cell_type": "code",
   "execution_count": 12,
   "id": "38172945-ecb7-4b1e-aea0-3c8010c7ce05",
   "metadata": {},
   "outputs": [],
   "source": [
    "df_x_test=pd.read_csv(r\"C:\\Users\\Hosiyar Singh\\Documents\\python machine learning\\KNN algorithm\\KNN_assignment\\Diabetes_Xtest.csv\")"
   ]
  },
  {
   "cell_type": "code",
   "execution_count": 16,
   "id": "636a4d46-6cd6-4a3f-8f1e-2bb68169db74",
   "metadata": {},
   "outputs": [],
   "source": [
    "x_test = df_x_test.values\n",
    "x_test = np.apply_along_axis(min_max_scaling, 0, x_test)"
   ]
  },
  {
   "cell_type": "code",
   "execution_count": 24,
   "id": "8507b205-c153-4c81-9113-b46047365678",
   "metadata": {},
   "outputs": [],
   "source": [
    "predictions = [knn(x, y, query, k=5) for query in x_test]"
   ]
  },
  {
   "cell_type": "code",
   "execution_count": 25,
   "id": "56396b5e-dfc9-4a49-aad2-99aaf4d4ec25",
   "metadata": {},
   "outputs": [
    {
     "name": "stdout",
     "output_type": "stream",
     "text": [
      "[1, 0, 0, 0, 0, 1, 1, 0, 0, 0, 1, 0, 1, 0, 1, 0, 0, 1, 0, 1, 0, 0, 1, 0, 0, 0, 0, 1, 0, 0, 1, 1, 0, 0, 0, 0, 1, 1, 0, 0, 0, 0, 0, 0, 1, 0, 0, 1, 0, 1, 0, 1, 1, 0, 1, 0, 1, 0, 0, 1, 1, 0, 0, 0, 1, 0, 0, 0, 1, 0, 0, 0, 0, 0, 1, 0, 0, 0, 0, 0, 0, 0, 0, 0, 0, 0, 1, 1, 0, 0, 0, 1, 0, 0, 1, 0, 1, 0, 0, 0, 1, 1, 0, 0, 0, 1, 0, 1, 0, 0, 1, 0, 1, 1, 0, 1, 1, 1, 0, 0, 0, 0, 0, 0, 0, 0, 1, 0, 1, 0, 1, 1, 0, 0, 0, 0, 1, 1, 1, 0, 1, 1, 1, 0, 0, 0, 0, 1, 1, 0, 0, 0, 1, 1, 0, 1, 0, 1, 1, 1, 1, 1, 1, 1, 0, 0, 0, 1, 0, 0, 0, 1, 1, 0, 1, 0, 0, 0, 1, 1, 0, 1, 1, 1, 1, 0, 0, 1, 0, 1, 0, 0]\n"
     ]
    }
   ],
   "source": [
    "print(predictions)"
   ]
  },
  {
   "cell_type": "code",
   "execution_count": 27,
   "id": "66cb0439-3ee8-4c42-9c1d-f5f0644112b3",
   "metadata": {},
   "outputs": [],
   "source": [
    "pd.DataFrame(predictions, columns=[\"Outcome\"]).to_csv(r\"C:\\Users\\Hosiyar Singh\\Documents\\python machine learning\\KNN algorithm\\KNN_assignment\\diabetes_predictions.csv\", index=False)"
   ]
  },
  {
   "cell_type": "code",
   "execution_count": 28,
   "id": "8c675961-ab64-4714-8b97-34b989138d6e",
   "metadata": {},
   "outputs": [
    {
     "name": "stdout",
     "output_type": "stream",
     "text": [
      "predictions saved\n"
     ]
    }
   ],
   "source": [
    "print('predictions saved')"
   ]
  },
  {
   "cell_type": "code",
   "execution_count": null,
   "id": "2f06b412-eb6c-4cae-b430-5968d7ffbfe5",
   "metadata": {},
   "outputs": [],
   "source": []
  }
 ],
 "metadata": {
  "kernelspec": {
   "display_name": "Python 3 (ipykernel)",
   "language": "python",
   "name": "python3"
  },
  "language_info": {
   "codemirror_mode": {
    "name": "ipython",
    "version": 3
   },
   "file_extension": ".py",
   "mimetype": "text/x-python",
   "name": "python",
   "nbconvert_exporter": "python",
   "pygments_lexer": "ipython3",
   "version": "3.12.7"
  }
 },
 "nbformat": 4,
 "nbformat_minor": 5
}
